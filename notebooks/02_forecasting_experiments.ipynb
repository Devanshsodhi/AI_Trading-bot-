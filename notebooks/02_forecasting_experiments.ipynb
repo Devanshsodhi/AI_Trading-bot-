{
 "cells": [
  {
   "cell_type": "markdown",
   "metadata": {},
   "source": [
    "# Forecasting Agent Experiments\n",
    "\n",
    "This notebook demonstrates the LSTM forecasting agent and experiments with different configurations."
   ]
  },
  {
   "cell_type": "code",
   "execution_count": null,
   "metadata": {},
   "outputs": [],
   "source": [
    "import sys\n",
    "sys.path.append('..')\n",
    "\n",
    "import pandas as pd\n",
    "import numpy as np\n",
    "import matplotlib.pyplot as plt\n",
    "\n",
    "from src.data import DataLoader, TechnicalIndicators\n",
    "from src.forecasting_agent import ForecastingAgent\n",
    "from config import FORECAST_CONFIG\n",
    "\n",
    "plt.rcParams['figure.figsize'] = (15, 8)"
   ]
  },
  {
   "cell_type": "markdown",
   "metadata": {},
   "source": [
    "## 1. Prepare Data"
   ]
  },
  {
   "cell_type": "code",
   "execution_count": null,
   "metadata": {},
   "outputs": [],
   "source": [
    "# Load data\n",
    "ticker = 'AAPL'\n",
    "loader = DataLoader(ticker, period='2y')\n",
    "data = loader.fetch_data()\n",
    "\n",
    "# Add technical indicators\n",
    "data_with_indicators = TechnicalIndicators.add_all_indicators(data)\n",
    "\n",
    "print(f\"Data shape: {data_with_indicators.shape}\")\n",
    "data_with_indicators.tail()"
   ]
  },
  {
   "cell_type": "markdown",
   "metadata": {},
   "source": [
    "## 2. Initialize Forecasting Agent"
   ]
  },
  {
   "cell_type": "code",
   "execution_count": null,
   "metadata": {},
   "outputs": [],
   "source": [
    "# Create forecasting agent\n",
    "config = FORECAST_CONFIG.copy()\n",
    "config['epochs'] = 20  # Reduce for faster training in notebook\n",
    "\n",
    "agent = ForecastingAgent(config)\n",
    "print(\"Forecasting agent initialized\")"
   ]
  },
  {
   "cell_type": "markdown",
   "metadata": {},
   "source": [
    "## 3. Train Model"
   ]
  },
  {
   "cell_type": "code",
   "execution_count": null,
   "metadata": {},
   "outputs": [],
   "source": [
    "# Split data\n",
    "train_size = int(len(data_with_indicators) * 0.8)\n",
    "train_data = data_with_indicators[:train_size]\n",
    "test_data = data_with_indicators[train_size:]\n",
    "\n",
    "print(f\"Training samples: {len(train_data)}\")\n",
    "print(f\"Testing samples: {len(test_data)}\")\n",
    "\n",
    "# Train\n",
    "agent.train(train_data, validation_split=0.2)"
   ]
  },
  {
   "cell_type": "markdown",
   "metadata": {},
   "source": [
    "## 4. Generate Forecast"
   ]
  },
  {
   "cell_type": "code",
   "execution_count": null,
   "metadata": {},
   "outputs": [],
   "source": [
    "# Generate forecast\n",
    "forecast_result = agent.predict(data_with_indicators, forecast_days=10)\n",
    "\n",
    "print(\"Forecast Results:\")\n",
    "print(\"=\" * 50)\n",
    "print(f\"Trend: {forecast_result['trend']}\")\n",
    "print(f\"Trend Probability: {forecast_result['trend_probability']:.2%}\")\n",
    "print(f\"Confidence: {forecast_result['confidence']:.2%}\")\n",
    "print(f\"Current Price: ${forecast_result['current_price']:.2f}\")\n",
    "print(f\"\\nForecast (next {forecast_result['forecast_days']} days):\")\n",
    "for i, (mean, lower, upper) in enumerate(zip(\n",
    "    forecast_result['mean_forecast'],\n",
    "    forecast_result['lower_bound'],\n",
    "    forecast_result['upper_bound']\n",
    "), 1):\n",
    "    print(f\"Day {i}: ${mean:.2f} (${lower:.2f} - ${upper:.2f})\")"
   ]
  },
  {
   "cell_type": "markdown",
   "metadata": {},
   "source": [
    "## 5. Visualize Forecast"
   ]
  },
  {
   "cell_type": "code",
   "execution_count": null,
   "metadata": {},
   "outputs": [],
   "source": [
    "# Prepare data for plotting\n",
    "historical_prices = data_with_indicators['Close'].values[-60:]\n",
    "historical_dates = range(len(historical_prices))\n",
    "\n",
    "forecast_dates = range(len(historical_prices), \n",
    "                       len(historical_prices) + len(forecast_result['mean_forecast']))\n",
    "\n",
    "# Plot\n",
    "plt.figure(figsize=(15, 8))\n",
    "\n",
    "# Historical prices\n",
    "plt.plot(historical_dates, historical_prices, label='Historical', linewidth=2, color='blue')\n",
    "\n",
    "# Forecast\n",
    "plt.plot(forecast_dates, forecast_result['mean_forecast'], \n",
    "         label='Forecast', linewidth=2, color='red', linestyle='--')\n",
    "\n",
    "# Confidence interval\n",
    "plt.fill_between(forecast_dates, \n",
    "                 forecast_result['lower_bound'], \n",
    "                 forecast_result['upper_bound'],\n",
    "                 alpha=0.3, color='red', label='Confidence Interval')\n",
    "\n",
    "plt.axvline(x=len(historical_prices)-1, color='gray', linestyle=':', alpha=0.5)\n",
    "plt.xlabel('Time Steps')\n",
    "plt.ylabel('Price ($)')\n",
    "plt.title(f'{ticker} Price Forecast')\n",
    "plt.legend()\n",
    "plt.grid(True, alpha=0.3)\n",
    "plt.show()"
   ]
  },
  {
   "cell_type": "markdown",
   "metadata": {},
   "source": [
    "## 6. Evaluate Forecast Accuracy"
   ]
  },
  {
   "cell_type": "code",
   "execution_count": null,
   "metadata": {},
   "outputs": [],
   "source": [
    "# Use test data to evaluate\n",
    "if len(test_data) >= forecast_result['forecast_days']:\n",
    "    actual_prices = test_data['Close'].values[:forecast_result['forecast_days']]\n",
    "    predicted_prices = forecast_result['mean_forecast']\n",
    "    \n",
    "    # Calculate metrics\n",
    "    mae = np.mean(np.abs(actual_prices - predicted_prices))\n",
    "    rmse = np.sqrt(np.mean((actual_prices - predicted_prices) ** 2))\n",
    "    mape = np.mean(np.abs((actual_prices - predicted_prices) / actual_prices)) * 100\n",
    "    \n",
    "    print(\"Forecast Accuracy Metrics:\")\n",
    "    print(\"=\" * 50)\n",
    "    print(f\"MAE:  ${mae:.2f}\")\n",
    "    print(f\"RMSE: ${rmse:.2f}\")\n",
    "    print(f\"MAPE: {mape:.2f}%\")\n",
    "    \n",
    "    # Plot comparison\n",
    "    plt.figure(figsize=(12, 6))\n",
    "    x = range(len(actual_prices))\n",
    "    plt.plot(x, actual_prices, 'o-', label='Actual', linewidth=2)\n",
    "    plt.plot(x, predicted_prices, 's-', label='Predicted', linewidth=2)\n",
    "    plt.xlabel('Days')\n",
    "    plt.ylabel('Price ($)')\n",
    "    plt.title('Forecast vs Actual Prices')\n",
    "    plt.legend()\n",
    "    plt.grid(True, alpha=0.3)\n",
    "    plt.show()\n",
    "else:\n",
    "    print(\"Not enough test data for evaluation\")"
   ]
  }
 ],
 "metadata": {
  "kernelspec": {
   "display_name": "Python 3",
   "language": "python",
   "name": "python3"
  },
  "language_info": {
   "codemirror_mode": {
    "name": "ipython",
    "version": 3
   },
   "file_extension": ".py",
   "mimetype": "text/x-python",
   "name": "python",
   "nbconvert_exporter": "python",
   "pygments_lexer": "ipython3",
   "version": "3.8.0"
  }
 },
 "nbformat": 4,
 "nbformat_minor": 4
}
