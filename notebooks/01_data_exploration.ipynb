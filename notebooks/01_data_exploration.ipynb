{
 "cells": [
  {
   "cell_type": "markdown",
   "metadata": {},
   "source": [
    "# Data Exploration and Technical Indicators\n",
    "\n",
    "This notebook demonstrates how to load stock data and calculate technical indicators."
   ]
  },
  {
   "cell_type": "code",
   "execution_count": null,
   "metadata": {},
   "outputs": [],
   "source": [
    "import sys\n",
    "sys.path.append('..')\n",
    "\n",
    "import pandas as pd\n",
    "import matplotlib.pyplot as plt\n",
    "import seaborn as sns\n",
    "\n",
    "from src.data import DataLoader, TechnicalIndicators\n",
    "from config import DATA_CONFIG\n",
    "\n",
    "sns.set_style('darkgrid')\n",
    "plt.rcParams['figure.figsize'] = (15, 8)"
   ]
  },
  {
   "cell_type": "markdown",
   "metadata": {},
   "source": [
    "## 1. Load Stock Data"
   ]
  },
  {
   "cell_type": "code",
   "execution_count": null,
   "metadata": {},
   "outputs": [],
   "source": [
    "# Initialize data loader\n",
    "ticker = 'AAPL'\n",
    "loader = DataLoader(ticker, period='2y')\n",
    "\n",
    "# Fetch data\n",
    "data = loader.fetch_data()\n",
    "print(f\"Loaded {len(data)} data points\")\n",
    "data.head()"
   ]
  },
  {
   "cell_type": "markdown",
   "metadata": {},
   "source": [
    "## 2. Basic Statistics"
   ]
  },
  {
   "cell_type": "code",
   "execution_count": null,
   "metadata": {},
   "outputs": [],
   "source": [
    "# Display statistics\n",
    "data.describe()"
   ]
  },
  {
   "cell_type": "code",
   "execution_count": null,
   "metadata": {},
   "outputs": [],
   "source": [
    "# Plot closing price\n",
    "plt.figure(figsize=(15, 6))\n",
    "plt.plot(data.index, data['Close'], label='Close Price')\n",
    "plt.title(f'{ticker} Stock Price')\n",
    "plt.xlabel('Date')\n",
    "plt.ylabel('Price ($)')\n",
    "plt.legend()\n",
    "plt.show()"
   ]
  },
  {
   "cell_type": "markdown",
   "metadata": {},
   "source": [
    "## 3. Add Technical Indicators"
   ]
  },
  {
   "cell_type": "code",
   "execution_count": null,
   "metadata": {},
   "outputs": [],
   "source": [
    "# Add all technical indicators\n",
    "data_with_indicators = TechnicalIndicators.add_all_indicators(data)\n",
    "print(f\"Added {len(data_with_indicators.columns) - 5} indicators\")\n",
    "data_with_indicators.columns.tolist()"
   ]
  },
  {
   "cell_type": "markdown",
   "metadata": {},
   "source": [
    "## 4. Visualize Technical Indicators"
   ]
  },
  {
   "cell_type": "code",
   "execution_count": null,
   "metadata": {},
   "outputs": [],
   "source": [
    "# Plot price with moving averages\n",
    "fig, axes = plt.subplots(3, 1, figsize=(15, 12), sharex=True)\n",
    "\n",
    "# Price and MAs\n",
    "axes[0].plot(data_with_indicators.index, data_with_indicators['Close'], label='Close', linewidth=2)\n",
    "axes[0].plot(data_with_indicators.index, data_with_indicators['SMA_20'], label='SMA 20', alpha=0.7)\n",
    "axes[0].plot(data_with_indicators.index, data_with_indicators['SMA_50'], label='SMA 50', alpha=0.7)\n",
    "axes[0].set_ylabel('Price ($)')\n",
    "axes[0].set_title('Price with Moving Averages')\n",
    "axes[0].legend()\n",
    "axes[0].grid(True)\n",
    "\n",
    "# RSI\n",
    "axes[1].plot(data_with_indicators.index, data_with_indicators['RSI'], label='RSI', color='purple')\n",
    "axes[1].axhline(y=70, color='r', linestyle='--', alpha=0.5, label='Overbought')\n",
    "axes[1].axhline(y=30, color='g', linestyle='--', alpha=0.5, label='Oversold')\n",
    "axes[1].set_ylabel('RSI')\n",
    "axes[1].set_title('Relative Strength Index')\n",
    "axes[1].legend()\n",
    "axes[1].grid(True)\n",
    "\n",
    "# MACD\n",
    "axes[2].plot(data_with_indicators.index, data_with_indicators['MACD'], label='MACD', color='blue')\n",
    "axes[2].plot(data_with_indicators.index, data_with_indicators['MACD_signal'], label='Signal', color='red')\n",
    "axes[2].bar(data_with_indicators.index, data_with_indicators['MACD_diff'], label='Histogram', alpha=0.3)\n",
    "axes[2].set_ylabel('MACD')\n",
    "axes[2].set_xlabel('Date')\n",
    "axes[2].set_title('MACD')\n",
    "axes[2].legend()\n",
    "axes[2].grid(True)\n",
    "\n",
    "plt.tight_layout()\n",
    "plt.show()"
   ]
  },
  {
   "cell_type": "markdown",
   "metadata": {},
   "source": [
    "## 5. Current Trading Signals"
   ]
  },
  {
   "cell_type": "code",
   "execution_count": null,
   "metadata": {},
   "outputs": [],
   "source": [
    "# Get current signals\n",
    "signals = TechnicalIndicators.get_current_signals(data_with_indicators)\n",
    "\n",
    "print(\"Current Trading Signals:\")\n",
    "print(\"=\" * 50)\n",
    "for indicator, signal in signals.items():\n",
    "    print(f\"{indicator:15s}: {signal}\")"
   ]
  },
  {
   "cell_type": "markdown",
   "metadata": {},
   "source": [
    "## 6. Correlation Analysis"
   ]
  },
  {
   "cell_type": "code",
   "execution_count": null,
   "metadata": {},
   "outputs": [],
   "source": [
    "# Select key indicators for correlation\n",
    "key_indicators = ['Close', 'SMA_20', 'SMA_50', 'RSI', 'MACD', 'Volume']\n",
    "correlation_data = data_with_indicators[key_indicators].corr()\n",
    "\n",
    "# Plot correlation heatmap\n",
    "plt.figure(figsize=(10, 8))\n",
    "sns.heatmap(correlation_data, annot=True, cmap='coolwarm', center=0)\n",
    "plt.title('Correlation Matrix of Key Indicators')\n",
    "plt.show()"
   ]
  }
 ],
 "metadata": {
  "kernelspec": {
   "display_name": "Python 3",
   "language": "python",
   "name": "python3"
  },
  "language_info": {
   "codemirror_mode": {
    "name": "ipython",
    "version": 3
   },
   "file_extension": ".py",
   "mimetype": "text/x-python",
   "name": "python",
   "nbconvert_exporter": "python",
   "pygments_lexer": "ipython3",
   "version": "3.8.0"
  }
 },
 "nbformat": 4,
 "nbformat_minor": 4
}
