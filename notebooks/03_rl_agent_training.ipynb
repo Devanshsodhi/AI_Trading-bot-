{
 "cells": [
  {
   "cell_type": "markdown",
   "metadata": {},
   "source": [
    "# RL Trading Agent Training\n",
    "\n",
    "This notebook demonstrates training and evaluating the reinforcement learning trading agent."
   ]
  },
  {
   "cell_type": "code",
   "execution_count": null,
   "metadata": {},
   "outputs": [],
   "source": [
    "import sys\n",
    "sys.path.append('..')\n",
    "\n",
    "import pandas as pd\n",
    "import numpy as np\n",
    "import matplotlib.pyplot as plt\n",
    "\n",
    "from src.data import DataLoader, TechnicalIndicators\n",
    "from src.trading_agent import TradingAgent\n",
    "from config import RL_CONFIG, ENV_CONFIG\n",
    "\n",
    "plt.rcParams['figure.figsize'] = (15, 8)"
   ]
  },
  {
   "cell_type": "markdown",
   "metadata": {},
   "source": [
    "## 1. Prepare Data"
   ]
  },
  {
   "cell_type": "code",
   "execution_count": null,
   "metadata": {},
   "outputs": [],
   "source": [
    "# Load data\n",
    "ticker = 'AAPL'\n",
    "loader = DataLoader(ticker, period='2y')\n",
    "data = loader.fetch_data()\n",
    "\n",
    "# Add technical indicators\n",
    "data_with_indicators = TechnicalIndicators.add_all_indicators(data)\n",
    "\n",
    "# Split data\n",
    "train_size = int(len(data_with_indicators) * 0.8)\n",
    "train_data = data_with_indicators[:train_size]\n",
    "test_data = data_with_indicators[train_size:]\n",
    "\n",
    "print(f\"Training samples: {len(train_data)}\")\n",
    "print(f\"Testing samples: {len(test_data)}\")"
   ]
  },
  {
   "cell_type": "markdown",
   "metadata": {},
   "source": [
    "## 2. Initialize RL Agent"
   ]
  },
  {
   "cell_type": "code",
   "execution_count": null,
   "metadata": {},
   "outputs": [],
   "source": [
    "# Configure agent\n",
    "rl_config = RL_CONFIG.copy()\n",
    "rl_config['total_timesteps'] = 50000  # Reduce for faster training\n",
    "\n",
    "agent = TradingAgent(rl_config, ENV_CONFIG)\n",
    "print(f\"Trading agent initialized with {rl_config['algorithm']}\")"
   ]
  },
  {
   "cell_type": "markdown",
   "metadata": {},
   "source": [
    "## 3. Train Agent"
   ]
  },
  {
   "cell_type": "code",
   "execution_count": null,
   "metadata": {},
   "outputs": [],
   "source": [
    "# Train the agent\n",
    "print(\"Training RL agent... This may take several minutes.\")\n",
    "agent.train(train_data, verbose=1)"
   ]
  },
  {
   "cell_type": "markdown",
   "metadata": {},
   "source": [
    "## 4. Backtest on Test Data"
   ]
  },
  {
   "cell_type": "code",
   "execution_count": null,
   "metadata": {},
   "outputs": [],
   "source": [
    "# Run backtest\n",
    "metrics = agent.backtest(test_data)\n",
    "\n",
    "print(\"Backtest Results:\")\n",
    "print(\"=\" * 50)\n",
    "print(f\"Total Return: {metrics['total_return']:.2%}\")\n",
    "print(f\"Final Value: ${metrics['final_value']:.2f}\")\n",
    "print(f\"Number of Trades: {metrics['num_trades']}\")\n",
    "print(f\"Sharpe Ratio: {metrics['sharpe_ratio']:.2f}\")"
   ]
  },
  {
   "cell_type": "markdown",
   "metadata": {},
   "source": [
    "## 5. Compare with Buy-and-Hold"
   ]
  },
  {
   "cell_type": "code",
   "execution_count": null,
   "metadata": {},
   "outputs": [],
   "source": [
    "# Calculate buy-and-hold return\n",
    "initial_price = test_data['Close'].iloc[0]\n",
    "final_price = test_data['Close'].iloc[-1]\n",
    "buy_hold_return = (final_price - initial_price) / initial_price\n",
    "\n",
    "initial_balance = ENV_CONFIG['initial_balance']\n",
    "buy_hold_value = initial_balance * (1 + buy_hold_return)\n",
    "\n",
    "print(\"Strategy Comparison:\")\n",
    "print(\"=\" * 50)\n",
    "print(f\"RL Agent Return:     {metrics['total_return']:>8.2%}\")\n",
    "print(f\"Buy-and-Hold Return: {buy_hold_return:>8.2%}\")\n",
    "print(f\"\\nRL Agent Value:      ${metrics['final_value']:>10.2f}\")\n",
    "print(f\"Buy-and-Hold Value:  ${buy_hold_value:>10.2f}\")\n",
    "print(f\"\\nOutperformance:      {(metrics['total_return'] - buy_hold_return):>8.2%}\")"
   ]
  },
  {
   "cell_type": "markdown",
   "metadata": {},
   "source": [
    "## 6. Visualize Trading Actions"
   ]
  },
  {
   "cell_type": "code",
   "execution_count": null,
   "metadata": {},
   "outputs": [],
   "source": [
    "# Simulate episode to get actions\n",
    "env = agent.create_environment(test_data)\n",
    "obs, _ = env.reset()\n",
    "\n",
    "actions = []\n",
    "prices = []\n",
    "values = []\n",
    "\n",
    "done = False\n",
    "while not done:\n",
    "    action, _ = agent.model.predict(obs, deterministic=True)\n",
    "    obs, reward, terminated, truncated, info = env.step(int(action))\n",
    "    \n",
    "    actions.append(int(action))\n",
    "    prices.append(info['current_price'])\n",
    "    values.append(info['total_value'])\n",
    "    \n",
    "    done = terminated or truncated\n",
    "\n",
    "# Plot\n",
    "fig, axes = plt.subplots(3, 1, figsize=(15, 12), sharex=True)\n",
    "\n",
    "# Price with actions\n",
    "axes[0].plot(prices, label='Price', linewidth=2)\n",
    "buy_points = [i for i, a in enumerate(actions) if a == 1]\n",
    "sell_points = [i for i, a in enumerate(actions) if a == 2]\n",
    "axes[0].scatter(buy_points, [prices[i] for i in buy_points], \n",
    "                color='green', marker='^', s=100, label='Buy', zorder=5)\n",
    "axes[0].scatter(sell_points, [prices[i] for i in sell_points], \n",
    "                color='red', marker='v', s=100, label='Sell', zorder=5)\n",
    "axes[0].set_ylabel('Price ($)')\n",
    "axes[0].set_title('Trading Actions')\n",
    "axes[0].legend()\n",
    "axes[0].grid(True, alpha=0.3)\n",
    "\n",
    "# Portfolio value\n",
    "axes[1].plot(values, label='Portfolio Value', linewidth=2, color='purple')\n",
    "axes[1].axhline(y=initial_balance, color='gray', linestyle='--', alpha=0.5, label='Initial Balance')\n",
    "axes[1].set_ylabel('Value ($)')\n",
    "axes[1].set_title('Portfolio Value Over Time')\n",
    "axes[1].legend()\n",
    "axes[1].grid(True, alpha=0.3)\n",
    "\n",
    "# Actions distribution\n",
    "action_counts = [actions.count(0), actions.count(1), actions.count(2)]\n",
    "axes[2].bar(['Hold', 'Buy', 'Sell'], action_counts, color=['gray', 'green', 'red'])\n",
    "axes[2].set_ylabel('Count')\n",
    "axes[2].set_title('Action Distribution')\n",
    "axes[2].grid(True, alpha=0.3, axis='y')\n",
    "\n",
    "plt.tight_layout()\n",
    "plt.show()\n",
    "\n",
    "print(f\"\\nAction Distribution:\")\n",
    "print(f\"Hold: {action_counts[0]} ({action_counts[0]/len(actions):.1%})\")\n",
    "print(f\"Buy:  {action_counts[1]} ({action_counts[1]/len(actions):.1%})\")\n",
    "print(f\"Sell: {action_counts[2]} ({action_counts[2]/len(actions):.1%})\")"
   ]
  },
  {
   "cell_type": "markdown",
   "metadata": {},
   "source": [
    "## 7. Test Different Configurations"
   ]
  },
  {
   "cell_type": "code",
   "execution_count": null,
   "metadata": {},
   "outputs": [],
   "source": [
    "# Test with different transaction costs\n",
    "transaction_costs = [0.0001, 0.001, 0.005, 0.01]\n",
    "results = []\n",
    "\n",
    "for cost in transaction_costs:\n",
    "    env_config = ENV_CONFIG.copy()\n",
    "    env_config['transaction_cost'] = cost\n",
    "    \n",
    "    test_agent = TradingAgent(rl_config, env_config)\n",
    "    test_agent.train(train_data, verbose=0)\n",
    "    metrics = test_agent.backtest(test_data)\n",
    "    \n",
    "    results.append({\n",
    "        'cost': cost,\n",
    "        'return': metrics['total_return'],\n",
    "        'sharpe': metrics['sharpe_ratio']\n",
    "    })\n",
    "\n",
    "# Plot results\n",
    "fig, axes = plt.subplots(1, 2, figsize=(15, 5))\n",
    "\n",
    "costs = [r['cost'] for r in results]\n",
    "returns = [r['return'] for r in results]\n",
    "sharpes = [r['sharpe'] for r in results]\n",
    "\n",
    "axes[0].plot(costs, returns, 'o-', linewidth=2)\n",
    "axes[0].set_xlabel('Transaction Cost')\n",
    "axes[0].set_ylabel('Return')\n",
    "axes[0].set_title('Return vs Transaction Cost')\n",
    "axes[0].grid(True, alpha=0.3)\n",
    "\n",
    "axes[1].plot(costs, sharpes, 'o-', linewidth=2, color='orange')\n",
    "axes[1].set_xlabel('Transaction Cost')\n",
    "axes[1].set_ylabel('Sharpe Ratio')\n",
    "axes[1].set_title('Sharpe Ratio vs Transaction Cost')\n",
    "axes[1].grid(True, alpha=0.3)\n",
    "\n",
    "plt.tight_layout()\n",
    "plt.show()"
   ]
  }
 ],
 "metadata": {
  "kernelspec": {
   "display_name": "Python 3",
   "language": "python",
   "name": "python3"
  },
  "language_info": {
   "codemirror_mode": {
    "name": "ipython",
    "version": 3
   },
   "file_extension": ".py",
   "mimetype": "text/x-python",
   "name": "python",
   "nbconvert_exporter": "python",
   "pygments_lexer": "ipython3",
   "version": "3.8.0"
  }
 },
 "nbformat": 4,
 "nbformat_minor": 4
}
